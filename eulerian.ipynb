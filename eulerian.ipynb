{
  "nbformat": 4,
  "nbformat_minor": 0,
  "metadata": {
    "colab": {
      "provenance": []
    },
    "kernelspec": {
      "name": "python3",
      "display_name": "Python 3"
    },
    "language_info": {
      "name": "python"
    }
  },
  "cells": [
    {
      "cell_type": "code",
      "execution_count": 1,
      "metadata": {
        "id": "gr2ODNwwZiqF"
      },
      "outputs": [],
      "source": [
        "from copy import copy"
      ]
    },
    {
      "cell_type": "code",
      "source": [
        "def is_connected(G):\n",
        "\tstart_node = list(G)[0]\n",
        "\tcolor = {v: 'white' for v in G}\n",
        "\tcolor[start_node] = 'gray'\n",
        "\tS = [start_node]\n",
        "\twhile len(S) != 0:\n",
        "\t\tu = S.pop()\n",
        "\t\tfor v in G[u]:\n",
        "\t\t\tif color[v] == 'white':\n",
        "\t\t\t\tcolor[v] = 'gray'\n",
        "\t\t\t\tS.append(v)\n",
        "\t\t\tcolor[u] = 'black'\n",
        "\treturn list(color.values()).count('black') == len(G)"
      ],
      "metadata": {
        "id": "fr9K7c5daB1z"
      },
      "execution_count": 2,
      "outputs": []
    },
    {
      "cell_type": "code",
      "source": [
        "def odd_degree_nodes(G):\n",
        "\todd_degree_nodes = []\n",
        "\tfor u in G:\n",
        "\t\tif len(G[u]) % 2 != 0:\n",
        "\t\t\todd_degree_nodes.append(u)\n",
        "\treturn odd_degree_nodes\n"
      ],
      "metadata": {
        "id": "1vjY4aaZaFRx"
      },
      "execution_count": 3,
      "outputs": []
    },
    {
      "cell_type": "code",
      "source": [
        "def from_dict(G):\n",
        "\tlinks = []\n",
        "\tfor u in G:\n",
        "\t\tfor v in G[u]:\n",
        "\t\t\tlinks.append((u,v))\n",
        "\treturn links"
      ],
      "metadata": {
        "id": "rjR1v5pzaM6S"
      },
      "execution_count": 4,
      "outputs": []
    },
    {
      "cell_type": "code",
      "source": [
        "def fleury(G):\n",
        "\t'''\n",
        "\t\tchecks if G has eulerian cycle or trail\n",
        "\t'''\n",
        "\todn = odd_degree_nodes(G)\n",
        "\tif len(odn) > 2 or len(odn) == 1:\n",
        "\t\treturn 'Not Eulerian Graph'\n",
        "\telse:\n",
        "\t\tg = copy(G)\n",
        "\t\ttrail = []\n",
        "\t\tif len(odn) == 2:\n",
        "\t\t\tu = odn[0]\n",
        "\t\telse:\n",
        "\t\t\tu = list(g)[0]\n",
        "\t\twhile len(from_dict(g)) > 0:\n",
        "\t\t\tcurrent_vertex = u\n",
        "\t\t\tfor u in g[current_vertex]:\n",
        "\t\t\t\tg[current_vertex].remove(u)\n",
        "\t\t\t\tg[u].remove(current_vertex)\n",
        "\t\t\t\tbridge = not is_connected(g)\n",
        "\t\t\t\tif bridge:\n",
        "\t\t\t\t\tg[current_vertex].append(u)\n",
        "\t\t\t\t\tg[u].append(current_vertex)\n",
        "\t\t\t\telse:\n",
        "\t\t\t\t\tbreak\n",
        "\t\t\tif bridge:\n",
        "\t\t\t\tg[current_vertex].remove(u)\n",
        "\t\t\t\tg[u].remove(current_vertex)\n",
        "\t\t\t\tg.pop(current_vertex)\n",
        "\t\t\ttrail.append((current_vertex, u))\n",
        "\treturn trail"
      ],
      "metadata": {
        "id": "DzVms65FaQfe"
      },
      "execution_count": 5,
      "outputs": []
    },
    {
      "cell_type": "code",
      "source": [
        "print('Konigsberg')\n",
        "G = {0: [2, 2, 3], 1: [2, 2, 3], 2: [0, 0, 1, 1, 3], 3: [0, 1, 2]}\n",
        "print(fleury(G))"
      ],
      "metadata": {
        "colab": {
          "base_uri": "https://localhost:8080/"
        },
        "id": "-HzN8xFUaWRj",
        "outputId": "e89782a9-76ab-4fa7-ed56-34c2361505bf"
      },
      "execution_count": 6,
      "outputs": [
        {
          "output_type": "stream",
          "name": "stdout",
          "text": [
            "Konigsberg\n",
            "Not Eulerian Graph\n"
          ]
        }
      ]
    },
    {
      "cell_type": "code",
      "source": [
        "print('1st Eulerian Cycle')\n",
        "G = {0: [1, 4, 6, 8], 1: [0, 2, 3, 8], 2: [1, 3], 3: [1, 2, 4, 5], 4: [0, 3], 5: [3, 6], 6: [0, 5, 7, 8], 7: [6, 8], 8: [0, 1, 6, 7]}\n",
        "print(fleury(G))"
      ],
      "metadata": {
        "colab": {
          "base_uri": "https://localhost:8080/"
        },
        "id": "mQXhM3XraajL",
        "outputId": "b0c84ac3-c254-4ff2-c13d-9097021e6540"
      },
      "execution_count": 7,
      "outputs": [
        {
          "output_type": "stream",
          "name": "stdout",
          "text": [
            "1st Eulerian Cycle\n",
            "[(0, 1), (1, 2), (2, 3), (3, 1), (1, 8), (8, 0), (0, 4), (4, 3), (3, 5), (5, 6), (6, 8), (8, 7), (7, 6), (6, 0)]\n"
          ]
        }
      ]
    },
    {
      "cell_type": "code",
      "source": [
        "print('2nd Eulerian Cycle')\n",
        "G = {1: [2, 3, 4, 4], 2: [1, 3, 3, 4], 3: [1, 2, 2, 4], 4: [1, 1, 2, 3]}\n",
        "print(fleury(G))"
      ],
      "metadata": {
        "colab": {
          "base_uri": "https://localhost:8080/"
        },
        "id": "Yjw1lBjyag_z",
        "outputId": "ce68feea-a2c6-4c92-9a5c-eb4e19b44f61"
      },
      "execution_count": 8,
      "outputs": [
        {
          "output_type": "stream",
          "name": "stdout",
          "text": [
            "2nd Eulerian Cycle\n",
            "[(1, 2), (2, 3), (3, 1), (1, 4), (4, 3), (3, 2), (2, 4), (4, 1)]\n"
          ]
        }
      ]
    },
    {
      "cell_type": "code",
      "source": [
        "print('Eulerian Trail')\n",
        "G = {1: [2, 3], 2: [1, 3, 4], 3: [1, 2, 4], 4: [2, 3]}\n",
        "print(fleury(G))"
      ],
      "metadata": {
        "colab": {
          "base_uri": "https://localhost:8080/"
        },
        "id": "EnbmlKbPalk9",
        "outputId": "ed68d765-1395-4abd-acd8-9a32da8e11b0"
      },
      "execution_count": 9,
      "outputs": [
        {
          "output_type": "stream",
          "name": "stdout",
          "text": [
            "Eulerian Trail\n",
            "[(2, 1), (1, 3), (3, 2), (2, 4), (4, 3)]\n"
          ]
        }
      ]
    },
    {
      "cell_type": "code",
      "source": [],
      "metadata": {
        "id": "fb6BkkSyartD"
      },
      "execution_count": null,
      "outputs": []
    }
  ]
}